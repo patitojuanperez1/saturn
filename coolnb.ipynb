{
 "cells": [
  {
   "cell_type": "code",
   "execution_count": 3,
   "id": "65edf4ad-38e7-4947-86d3-a38817c933a6",
   "metadata": {
    "execution": {
     "iopub.execute_input": "2023-10-08T07:44:42.665475Z",
     "iopub.status.busy": "2023-10-08T07:44:42.665093Z",
     "iopub.status.idle": "2023-10-08T07:44:42.670271Z",
     "shell.execute_reply": "2023-10-08T07:44:42.669332Z",
     "shell.execute_reply.started": "2023-10-08T07:44:42.665447Z"
    },
    "tags": []
   },
   "outputs": [],
   "source": [
    "from base import *"
   ]
  },
  {
   "cell_type": "code",
   "execution_count": 6,
   "id": "00e7ee3b-dd16-4778-8dbb-a2499c3eb9eb",
   "metadata": {
    "execution": {
     "iopub.execute_input": "2023-10-08T07:45:09.123560Z",
     "iopub.status.busy": "2023-10-08T07:45:09.123189Z",
     "iopub.status.idle": "2023-10-08T07:45:09.127614Z",
     "shell.execute_reply": "2023-10-08T07:45:09.126837Z",
     "shell.execute_reply.started": "2023-10-08T07:45:09.123535Z"
    },
    "tags": []
   },
   "outputs": [
    {
     "name": "stdout",
     "output_type": "stream",
     "text": [
      "75.65%\n"
     ]
    }
   ],
   "source": [
    "print_percentage(random_percentage() / 100)"
   ]
  },
  {
   "cell_type": "code",
   "execution_count": 8,
   "id": "b88b54cb-c714-4c75-8e60-71ed11927ea1",
   "metadata": {
    "execution": {
     "iopub.execute_input": "2023-10-08T07:45:43.145929Z",
     "iopub.status.busy": "2023-10-08T07:45:43.145551Z",
     "iopub.status.idle": "2023-10-08T07:45:43.150290Z",
     "shell.execute_reply": "2023-10-08T07:45:43.149441Z",
     "shell.execute_reply.started": "2023-10-08T07:45:43.145901Z"
    },
    "tags": []
   },
   "outputs": [
    {
     "name": "stdout",
     "output_type": "stream",
     "text": [
      "This is a random text, 0\n",
      "This is a random text, 1\n",
      "This is a random text, 2\n",
      "This is a random text, 3\n",
      "This is a random text, 4\n",
      "This is a random text, 5\n",
      "This is a random text, 6\n",
      "This is a random text, 7\n",
      "This is a random text, 8\n",
      "This is a random text, 9\n"
     ]
    }
   ],
   "source": [
    "for i in range(0, 10):\n",
    "    print(f\"This is a random text, {i}\")"
   ]
  },
  {
   "cell_type": "code",
   "execution_count": null,
   "id": "b490b56b-130c-46ed-8878-16c1fc003988",
   "metadata": {},
   "outputs": [],
   "source": []
  }
 ],
 "metadata": {
  "kernelspec": {
   "display_name": "saturn (Python 3)",
   "language": "python",
   "name": "python3"
  },
  "language_info": {
   "codemirror_mode": {
    "name": "ipython",
    "version": 3
   },
   "file_extension": ".py",
   "mimetype": "text/x-python",
   "name": "python",
   "nbconvert_exporter": "python",
   "pygments_lexer": "ipython3",
   "version": "3.9.15"
  }
 },
 "nbformat": 4,
 "nbformat_minor": 5
}
