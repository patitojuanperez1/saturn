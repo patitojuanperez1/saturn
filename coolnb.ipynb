{
 "cells": [
  {
   "cell_type": "code",
   "execution_count": 11,
   "id": "65edf4ad-38e7-4947-86d3-a38817c933a6",
   "metadata": {
    "execution": {
     "iopub.execute_input": "2023-10-08T07:55:42.458088Z",
     "iopub.status.busy": "2023-10-08T07:55:42.457191Z",
     "iopub.status.idle": "2023-10-08T07:55:42.461637Z",
     "shell.execute_reply": "2023-10-08T07:55:42.460782Z",
     "shell.execute_reply.started": "2023-10-08T07:55:42.458056Z"
    },
    "tags": []
   },
   "outputs": [],
   "source": [
    "from base import *\n",
    "import random\n",
    "import string"
   ]
  },
  {
   "cell_type": "code",
   "execution_count": 6,
   "id": "00e7ee3b-dd16-4778-8dbb-a2499c3eb9eb",
   "metadata": {
    "execution": {
     "iopub.execute_input": "2023-10-08T07:45:09.123560Z",
     "iopub.status.busy": "2023-10-08T07:45:09.123189Z",
     "iopub.status.idle": "2023-10-08T07:45:09.127614Z",
     "shell.execute_reply": "2023-10-08T07:45:09.126837Z",
     "shell.execute_reply.started": "2023-10-08T07:45:09.123535Z"
    },
    "tags": []
   },
   "outputs": [
    {
     "name": "stdout",
     "output_type": "stream",
     "text": [
      "75.65%\n"
     ]
    }
   ],
   "source": [
    "print_percentage(random_percentage() / 100)"
   ]
  },
  {
   "cell_type": "code",
   "execution_count": 14,
   "id": "b88b54cb-c714-4c75-8e60-71ed11927ea1",
   "metadata": {
    "execution": {
     "iopub.execute_input": "2023-10-08T07:56:08.294833Z",
     "iopub.status.busy": "2023-10-08T07:56:08.294433Z",
     "iopub.status.idle": "2023-10-08T07:56:08.304356Z",
     "shell.execute_reply": "2023-10-08T07:56:08.303508Z",
     "shell.execute_reply.started": "2023-10-08T07:56:08.294806Z"
    },
    "tags": []
   },
   "outputs": [
    {
     "name": "stdout",
     "output_type": "stream",
     "text": [
      "This is a random string 9cnm4zSTm2gkK7291p5nIgr9r6HCCLLnQPPmzWYSvtojPYUSJuLplqUMTEoIU97w07btVbMcAvYQzxHC9vmSV8iHUzKSx51aa5Sq\n",
      "This is a random string KdL9yvwuroPy34L1xiTEO2WEWp8K6CwyFb1qfE3t9aHfhwg6rrbA5FW2hsr1qrCWWp8sxv4Q1KPYoMVTjFaecp945G0FjULntdQ4\n",
      "This is a random string pRsQVHHcoNpMBCRan6jbhrG6GcnDsUkXzA3KaRRGhBQf9KX8CKl9zjRLRz6oJNovqhlFoXPcZk93DWc0QKG5c6EJK0Iu462rPXoB\n",
      "This is a random string wRB37OC2clawQIY1oUGRw2Q0rrnxK5QpLKCPE50xZms9J3qsipyhtsHUdBUUxPymE8Z8Pn1d6wPLl1OkVnc1rJGXZ6PvLGyiGDR7\n",
      "This is a random string 6TTVqWqOrHwqdbb0i9NW3NPL7ydJXS49ehk4TGPkT2L5Mg1jbT11nvg75uuCO58aNocv09xe3QzUwKtY3PbCMnUQmbKrSGhDFqQY\n",
      "This is a random string CpnUL6yem669gcUMcaeg1kiGGL8fBysZXIu6xDrwor1ewIHxuCt8OJmUxpMk1gWSFeUhjy4BzVk4OH7jO9gXBaagB4PmJ4bFCyht\n",
      "This is a random string CBYAhxjClMgSMpPGkkmgwNLem1qcDermHaSt32IDdSe0iMrU4bCRDVxKV01uJfgDjY7Y6YUfu89EU72cFpOInWC5oc9TPEwqAr0o\n",
      "This is a random string Qsiu4yAZFjG3znI9YPS27A5W0p61bKvERRVPf87CN1nHBpPU7mnHtM2OpWpDzwRWDYB0sYz3RxiUnA8834QOLSaCCTZMZxPQJ9hX\n",
      "This is a random string YqgY4ZqGvC1QiqObEU4BmgOr1MnFUdrkIQkDdNYsRtNqr2LrY2mbcfWxl60TAIJlTxUdsbvweoaqzOPrIZ4jkVVxRsUUlOMmgukF\n",
      "This is a random string 5FF44czxaIiAyZa2SaRVdb5cX05cqb4I6dOFoybfMJj9JLFuDhVhTQ4aq56s9rjIaOA3fuANgDLKuBQAahw8fFuqlPPwOhWELYqY\n"
     ]
    }
   ],
   "source": [
    "length = 100  # You can change this to your desired length\n",
    "\n",
    "for i in range(0, 10):\n",
    "    random_string = ''.join(random.choice(string.ascii_letters + string.digits) for _ in range(length))\n",
    "    print(\"This is a random string\", random_string)"
   ]
  },
  {
   "cell_type": "code",
   "execution_count": null,
   "id": "b490b56b-130c-46ed-8878-16c1fc003988",
   "metadata": {},
   "outputs": [],
   "source": [
    "\n"
   ]
  }
 ],
 "metadata": {
  "kernelspec": {
   "display_name": "saturn (Python 3)",
   "language": "python",
   "name": "python3"
  },
  "language_info": {
   "codemirror_mode": {
    "name": "ipython",
    "version": 3
   },
   "file_extension": ".py",
   "mimetype": "text/x-python",
   "name": "python",
   "nbconvert_exporter": "python",
   "pygments_lexer": "ipython3",
   "version": "3.9.15"
  }
 },
 "nbformat": 4,
 "nbformat_minor": 5
}
